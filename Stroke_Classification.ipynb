{
 "cells": [
  {
   "cell_type": "code",
   "execution_count": null,
   "id": "b7fef4f8",
   "metadata": {},
   "outputs": [],
   "source": [
    "# Machine Learning Classification Project - Stroke Dataset\n",
    "Final Project Submission\n",
    "\n",
    "Please fill out:\n",
    "\n",
    "Student name: Jordana Tepper, Troy Hendrickson, Viktoria Szontagh\n",
    "Student pace: full time\n",
    "Scheduled project review date/time:\n",
    "Instructor name: Joseph Mata\n",
    "Blog post URL:"
   ]
  }
 ],
 "metadata": {
  "kernelspec": {
   "display_name": "Python 3 (ipykernel)",
   "language": "python",
   "name": "python3"
  },
  "language_info": {
   "codemirror_mode": {
    "name": "ipython",
    "version": 3
   },
   "file_extension": ".py",
   "mimetype": "text/x-python",
   "name": "python",
   "nbconvert_exporter": "python",
   "pygments_lexer": "ipython3",
   "version": "3.9.12"
  }
 },
 "nbformat": 4,
 "nbformat_minor": 5
}
