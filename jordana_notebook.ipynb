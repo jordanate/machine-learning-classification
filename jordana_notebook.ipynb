{
 "cells": [
  {
   "cell_type": "markdown",
   "metadata": {},
   "source": [
    "# Machine Learning Classification Project - Stroke Dataset\n",
    "\n",
    "**Student name**: Jordana Tepper, Troy Hendrickson, Viktoria Szontagh  \n",
    "**Student pace**: Full Time  \n",
    "**Instructor name**: Joseph Mata  "
   ]
  },
  {
   "cell_type": "code",
   "execution_count": 78,
   "metadata": {},
   "outputs": [],
   "source": [
    "#Basics\n",
    "import numpy as np\n",
    "import pandas as pd\n",
    "from IPython.display import Markdown, display\n",
    "import warnings\n",
    "warnings.filterwarnings(\"ignore\")\n",
    "\n",
    "# Data visualizations\n",
    "import matplotlib.pyplot as plt\n",
    "import seaborn as sns\n",
    "import plotly.express as px\n",
    "from IPython.display import Image\n",
    "from sklearn.metrics import plot_roc_curve #depreciated\n",
    "from sklearn.metrics import RocCurveDisplay\n",
    "\n",
    "%matplotlib inline\n",
    "\n",
    "# Pre-Processing\n",
    "from sklearn.model_selection import train_test_split\n",
    "from sklearn.preprocessing import MinMaxScaler\n",
    "from sklearn.preprocessing import StandardScaler\n",
    "from sklearn.preprocessing import OneHotEncoder\n",
    "from sklearn.preprocessing import PolynomialFeatures\n",
    "from sklearn.preprocessing import OrdinalEncoder\n",
    "from sklearn.metrics import precision_score, recall_score, \\\n",
    "                            confusion_matrix, plot_confusion_matrix, ConfusionMatrixDisplay\n",
    "from sklearn.model_selection import train_test_split, GridSearchCV, cross_val_score, RandomizedSearchCV\n",
    "from sklearn.compose import ColumnTransformer\n",
    "from sklearn.pipeline import Pipeline\n",
    "from imblearn.pipeline import Pipeline as imbpipeline\n",
    "from sklearn.preprocessing import LabelEncoder\n",
    "from sklearn.impute import SimpleImputer\n",
    "from imblearn.over_sampling import SMOTE, SMOTENC\n",
    "from sklearn.model_selection import StratifiedKFold\n",
    "\n",
    "# Metrics\n",
    "from sklearn.model_selection import cross_validate, ShuffleSplit\n",
    "from sklearn.model_selection import KFold\n",
    "import statsmodels.api as sm\n",
    "from sklearn.linear_model import LogisticRegression\n",
    "from sklearn.neighbors import KNeighborsClassifier\n",
    "from sklearn.tree import DecisionTreeClassifier\n",
    "from sklearn.impute import KNNImputer\n",
    "from sklearn import set_config\n",
    "from sklearn.metrics import recall_score\n",
    "set_config(display= 'diagram')\n",
    "from sklearn.metrics import roc_curve\n",
    "\n"
   ]
  },
  {
   "cell_type": "markdown",
   "metadata": {},
   "source": [
    "## Data Understanding"
   ]
  },
  {
   "cell_type": "code",
   "execution_count": 79,
   "metadata": {},
   "outputs": [
    {
     "data": {
      "text/html": [
       "<div>\n",
       "<style scoped>\n",
       "    .dataframe tbody tr th:only-of-type {\n",
       "        vertical-align: middle;\n",
       "    }\n",
       "\n",
       "    .dataframe tbody tr th {\n",
       "        vertical-align: top;\n",
       "    }\n",
       "\n",
       "    .dataframe thead th {\n",
       "        text-align: right;\n",
       "    }\n",
       "</style>\n",
       "<table border=\"1\" class=\"dataframe\">\n",
       "  <thead>\n",
       "    <tr style=\"text-align: right;\">\n",
       "      <th></th>\n",
       "      <th>id</th>\n",
       "      <th>gender</th>\n",
       "      <th>age</th>\n",
       "      <th>hypertension</th>\n",
       "      <th>heart_disease</th>\n",
       "      <th>ever_married</th>\n",
       "      <th>work_type</th>\n",
       "      <th>Residence_type</th>\n",
       "      <th>avg_glucose_level</th>\n",
       "      <th>bmi</th>\n",
       "      <th>smoking_status</th>\n",
       "      <th>stroke</th>\n",
       "    </tr>\n",
       "  </thead>\n",
       "  <tbody>\n",
       "    <tr>\n",
       "      <th>0</th>\n",
       "      <td>9046</td>\n",
       "      <td>Male</td>\n",
       "      <td>67.0</td>\n",
       "      <td>0</td>\n",
       "      <td>1</td>\n",
       "      <td>Yes</td>\n",
       "      <td>Private</td>\n",
       "      <td>Urban</td>\n",
       "      <td>228.69</td>\n",
       "      <td>36.6</td>\n",
       "      <td>formerly smoked</td>\n",
       "      <td>1</td>\n",
       "    </tr>\n",
       "    <tr>\n",
       "      <th>1</th>\n",
       "      <td>51676</td>\n",
       "      <td>Female</td>\n",
       "      <td>61.0</td>\n",
       "      <td>0</td>\n",
       "      <td>0</td>\n",
       "      <td>Yes</td>\n",
       "      <td>Self-employed</td>\n",
       "      <td>Rural</td>\n",
       "      <td>202.21</td>\n",
       "      <td>NaN</td>\n",
       "      <td>never smoked</td>\n",
       "      <td>1</td>\n",
       "    </tr>\n",
       "    <tr>\n",
       "      <th>2</th>\n",
       "      <td>31112</td>\n",
       "      <td>Male</td>\n",
       "      <td>80.0</td>\n",
       "      <td>0</td>\n",
       "      <td>1</td>\n",
       "      <td>Yes</td>\n",
       "      <td>Private</td>\n",
       "      <td>Rural</td>\n",
       "      <td>105.92</td>\n",
       "      <td>32.5</td>\n",
       "      <td>never smoked</td>\n",
       "      <td>1</td>\n",
       "    </tr>\n",
       "    <tr>\n",
       "      <th>3</th>\n",
       "      <td>60182</td>\n",
       "      <td>Female</td>\n",
       "      <td>49.0</td>\n",
       "      <td>0</td>\n",
       "      <td>0</td>\n",
       "      <td>Yes</td>\n",
       "      <td>Private</td>\n",
       "      <td>Urban</td>\n",
       "      <td>171.23</td>\n",
       "      <td>34.4</td>\n",
       "      <td>smokes</td>\n",
       "      <td>1</td>\n",
       "    </tr>\n",
       "    <tr>\n",
       "      <th>4</th>\n",
       "      <td>1665</td>\n",
       "      <td>Female</td>\n",
       "      <td>79.0</td>\n",
       "      <td>1</td>\n",
       "      <td>0</td>\n",
       "      <td>Yes</td>\n",
       "      <td>Self-employed</td>\n",
       "      <td>Rural</td>\n",
       "      <td>174.12</td>\n",
       "      <td>24.0</td>\n",
       "      <td>never smoked</td>\n",
       "      <td>1</td>\n",
       "    </tr>\n",
       "  </tbody>\n",
       "</table>\n",
       "</div>"
      ],
      "text/plain": [
       "      id  gender   age  hypertension  heart_disease ever_married  \\\n",
       "0   9046    Male  67.0             0              1          Yes   \n",
       "1  51676  Female  61.0             0              0          Yes   \n",
       "2  31112    Male  80.0             0              1          Yes   \n",
       "3  60182  Female  49.0             0              0          Yes   \n",
       "4   1665  Female  79.0             1              0          Yes   \n",
       "\n",
       "       work_type Residence_type  avg_glucose_level   bmi   smoking_status  \\\n",
       "0        Private          Urban             228.69  36.6  formerly smoked   \n",
       "1  Self-employed          Rural             202.21   NaN     never smoked   \n",
       "2        Private          Rural             105.92  32.5     never smoked   \n",
       "3        Private          Urban             171.23  34.4           smokes   \n",
       "4  Self-employed          Rural             174.12  24.0     never smoked   \n",
       "\n",
       "   stroke  \n",
       "0       1  \n",
       "1       1  \n",
       "2       1  \n",
       "3       1  \n",
       "4       1  "
      ]
     },
     "execution_count": 79,
     "metadata": {},
     "output_type": "execute_result"
    }
   ],
   "source": [
    "# Loading in the dataset\n",
    "df = pd.read_csv('data/healthcare-dataset-stroke-data.csv')\n",
    "df.head()"
   ]
  },
  {
   "cell_type": "code",
   "execution_count": 80,
   "metadata": {},
   "outputs": [
    {
     "name": "stdout",
     "output_type": "stream",
     "text": [
      "<class 'pandas.core.frame.DataFrame'>\n",
      "RangeIndex: 5110 entries, 0 to 5109\n",
      "Data columns (total 12 columns):\n",
      " #   Column             Non-Null Count  Dtype  \n",
      "---  ------             --------------  -----  \n",
      " 0   id                 5110 non-null   int64  \n",
      " 1   gender             5110 non-null   object \n",
      " 2   age                5110 non-null   float64\n",
      " 3   hypertension       5110 non-null   int64  \n",
      " 4   heart_disease      5110 non-null   int64  \n",
      " 5   ever_married       5110 non-null   object \n",
      " 6   work_type          5110 non-null   object \n",
      " 7   Residence_type     5110 non-null   object \n",
      " 8   avg_glucose_level  5110 non-null   float64\n",
      " 9   bmi                4909 non-null   float64\n",
      " 10  smoking_status     5110 non-null   object \n",
      " 11  stroke             5110 non-null   int64  \n",
      "dtypes: float64(3), int64(4), object(5)\n",
      "memory usage: 479.2+ KB\n"
     ]
    }
   ],
   "source": [
    "# Looking at the general information of the dataset\n",
    "df.info()"
   ]
  },
  {
   "cell_type": "markdown",
   "metadata": {},
   "source": [
    "There are 5110 rows and 12 columns in the dataset with variables of the following Datatypes: int, object, and float.\n",
    "\n",
    "The categorical columns (Datatype 'object') 'gender', 'ever_married', 'work_type', 'Residence_type', 'smoking_status'.\n",
    "\n",
    "Despite 'hypertension', 'heart_disease', and 'stroke' being type 'int', we know that these are actually categorical columns, as well.\n",
    "\n",
    "Furthermore, there appears to be missing values in the 'bmi' column."
   ]
  },
  {
   "cell_type": "code",
   "execution_count": 81,
   "metadata": {},
   "outputs": [
    {
     "data": {
      "text/html": [
       "<div>\n",
       "<style scoped>\n",
       "    .dataframe tbody tr th:only-of-type {\n",
       "        vertical-align: middle;\n",
       "    }\n",
       "\n",
       "    .dataframe tbody tr th {\n",
       "        vertical-align: top;\n",
       "    }\n",
       "\n",
       "    .dataframe thead th {\n",
       "        text-align: right;\n",
       "    }\n",
       "</style>\n",
       "<table border=\"1\" class=\"dataframe\">\n",
       "  <thead>\n",
       "    <tr style=\"text-align: right;\">\n",
       "      <th></th>\n",
       "      <th>id</th>\n",
       "      <th>age</th>\n",
       "      <th>hypertension</th>\n",
       "      <th>heart_disease</th>\n",
       "      <th>avg_glucose_level</th>\n",
       "      <th>bmi</th>\n",
       "      <th>stroke</th>\n",
       "    </tr>\n",
       "  </thead>\n",
       "  <tbody>\n",
       "    <tr>\n",
       "      <th>count</th>\n",
       "      <td>5110.000000</td>\n",
       "      <td>5110.000000</td>\n",
       "      <td>5110.000000</td>\n",
       "      <td>5110.000000</td>\n",
       "      <td>5110.000000</td>\n",
       "      <td>4909.000000</td>\n",
       "      <td>5110.000000</td>\n",
       "    </tr>\n",
       "    <tr>\n",
       "      <th>mean</th>\n",
       "      <td>36517.829354</td>\n",
       "      <td>43.226614</td>\n",
       "      <td>0.097456</td>\n",
       "      <td>0.054012</td>\n",
       "      <td>106.147677</td>\n",
       "      <td>28.893237</td>\n",
       "      <td>0.048728</td>\n",
       "    </tr>\n",
       "    <tr>\n",
       "      <th>std</th>\n",
       "      <td>21161.721625</td>\n",
       "      <td>22.612647</td>\n",
       "      <td>0.296607</td>\n",
       "      <td>0.226063</td>\n",
       "      <td>45.283560</td>\n",
       "      <td>7.854067</td>\n",
       "      <td>0.215320</td>\n",
       "    </tr>\n",
       "    <tr>\n",
       "      <th>min</th>\n",
       "      <td>67.000000</td>\n",
       "      <td>0.080000</td>\n",
       "      <td>0.000000</td>\n",
       "      <td>0.000000</td>\n",
       "      <td>55.120000</td>\n",
       "      <td>10.300000</td>\n",
       "      <td>0.000000</td>\n",
       "    </tr>\n",
       "    <tr>\n",
       "      <th>25%</th>\n",
       "      <td>17741.250000</td>\n",
       "      <td>25.000000</td>\n",
       "      <td>0.000000</td>\n",
       "      <td>0.000000</td>\n",
       "      <td>77.245000</td>\n",
       "      <td>23.500000</td>\n",
       "      <td>0.000000</td>\n",
       "    </tr>\n",
       "    <tr>\n",
       "      <th>50%</th>\n",
       "      <td>36932.000000</td>\n",
       "      <td>45.000000</td>\n",
       "      <td>0.000000</td>\n",
       "      <td>0.000000</td>\n",
       "      <td>91.885000</td>\n",
       "      <td>28.100000</td>\n",
       "      <td>0.000000</td>\n",
       "    </tr>\n",
       "    <tr>\n",
       "      <th>75%</th>\n",
       "      <td>54682.000000</td>\n",
       "      <td>61.000000</td>\n",
       "      <td>0.000000</td>\n",
       "      <td>0.000000</td>\n",
       "      <td>114.090000</td>\n",
       "      <td>33.100000</td>\n",
       "      <td>0.000000</td>\n",
       "    </tr>\n",
       "    <tr>\n",
       "      <th>max</th>\n",
       "      <td>72940.000000</td>\n",
       "      <td>82.000000</td>\n",
       "      <td>1.000000</td>\n",
       "      <td>1.000000</td>\n",
       "      <td>271.740000</td>\n",
       "      <td>97.600000</td>\n",
       "      <td>1.000000</td>\n",
       "    </tr>\n",
       "  </tbody>\n",
       "</table>\n",
       "</div>"
      ],
      "text/plain": [
       "                 id          age  hypertension  heart_disease  \\\n",
       "count   5110.000000  5110.000000   5110.000000    5110.000000   \n",
       "mean   36517.829354    43.226614      0.097456       0.054012   \n",
       "std    21161.721625    22.612647      0.296607       0.226063   \n",
       "min       67.000000     0.080000      0.000000       0.000000   \n",
       "25%    17741.250000    25.000000      0.000000       0.000000   \n",
       "50%    36932.000000    45.000000      0.000000       0.000000   \n",
       "75%    54682.000000    61.000000      0.000000       0.000000   \n",
       "max    72940.000000    82.000000      1.000000       1.000000   \n",
       "\n",
       "       avg_glucose_level          bmi       stroke  \n",
       "count        5110.000000  4909.000000  5110.000000  \n",
       "mean          106.147677    28.893237     0.048728  \n",
       "std            45.283560     7.854067     0.215320  \n",
       "min            55.120000    10.300000     0.000000  \n",
       "25%            77.245000    23.500000     0.000000  \n",
       "50%            91.885000    28.100000     0.000000  \n",
       "75%           114.090000    33.100000     0.000000  \n",
       "max           271.740000    97.600000     1.000000  "
      ]
     },
     "execution_count": 81,
     "metadata": {},
     "output_type": "execute_result"
    }
   ],
   "source": [
    "# Looking at basic metrics of the dataset (for the numerical columns)\n",
    "df.describe()"
   ]
  },
  {
   "cell_type": "markdown",
   "metadata": {},
   "source": [
    "\n",
    "Insights about Outliers:\n",
    "* There are outliers in the age column with a minimum value of 0.08 - indicating that this dataset includes children.\n",
    "* There are outliers in the 'avg_glucose_level' column with a maximum of 271.74\n",
    "* There are outliers in the 'bmi' column with a maximum of 97.6"
   ]
  },
  {
   "cell_type": "code",
   "execution_count": 82,
   "metadata": {},
   "outputs": [
    {
     "data": {
      "text/html": [
       "<div>\n",
       "<style scoped>\n",
       "    .dataframe tbody tr th:only-of-type {\n",
       "        vertical-align: middle;\n",
       "    }\n",
       "\n",
       "    .dataframe tbody tr th {\n",
       "        vertical-align: top;\n",
       "    }\n",
       "\n",
       "    .dataframe thead th {\n",
       "        text-align: right;\n",
       "    }\n",
       "</style>\n",
       "<table border=\"1\" class=\"dataframe\">\n",
       "  <thead>\n",
       "    <tr style=\"text-align: right;\">\n",
       "      <th></th>\n",
       "      <th>gender</th>\n",
       "      <th>ever_married</th>\n",
       "      <th>work_type</th>\n",
       "      <th>Residence_type</th>\n",
       "      <th>smoking_status</th>\n",
       "    </tr>\n",
       "  </thead>\n",
       "  <tbody>\n",
       "    <tr>\n",
       "      <th>count</th>\n",
       "      <td>5110</td>\n",
       "      <td>5110</td>\n",
       "      <td>5110</td>\n",
       "      <td>5110</td>\n",
       "      <td>5110</td>\n",
       "    </tr>\n",
       "    <tr>\n",
       "      <th>unique</th>\n",
       "      <td>3</td>\n",
       "      <td>2</td>\n",
       "      <td>5</td>\n",
       "      <td>2</td>\n",
       "      <td>4</td>\n",
       "    </tr>\n",
       "    <tr>\n",
       "      <th>top</th>\n",
       "      <td>Female</td>\n",
       "      <td>Yes</td>\n",
       "      <td>Private</td>\n",
       "      <td>Urban</td>\n",
       "      <td>never smoked</td>\n",
       "    </tr>\n",
       "    <tr>\n",
       "      <th>freq</th>\n",
       "      <td>2994</td>\n",
       "      <td>3353</td>\n",
       "      <td>2925</td>\n",
       "      <td>2596</td>\n",
       "      <td>1892</td>\n",
       "    </tr>\n",
       "  </tbody>\n",
       "</table>\n",
       "</div>"
      ],
      "text/plain": [
       "        gender ever_married work_type Residence_type smoking_status\n",
       "count     5110         5110      5110           5110           5110\n",
       "unique       3            2         5              2              4\n",
       "top     Female          Yes   Private          Urban   never smoked\n",
       "freq      2994         3353      2925           2596           1892"
      ]
     },
     "execution_count": 82,
     "metadata": {},
     "output_type": "execute_result"
    }
   ],
   "source": [
    "# Looking at basic metrics of the dataset (for the categorical columns)\n",
    "df.describe(include='object')"
   ]
  },
  {
   "cell_type": "markdown",
   "metadata": {},
   "source": [
    "Insights:\n",
    "* More females than males in the dataset\n",
    "* The majority of the individuals in this dataset have been married\n",
    "* Most of the individuals in this dataset work in a field categorized as 'private'\n",
    "* Most of the individuals in this dataset live in an urban area\n",
    "* The most prevalent value in 'smoking_status' is 'never smoked'"
   ]
  },
  {
   "cell_type": "code",
   "execution_count": 83,
   "metadata": {},
   "outputs": [
    {
     "data": {
      "text/plain": [
       "id                     0\n",
       "gender                 0\n",
       "age                    0\n",
       "hypertension           0\n",
       "heart_disease          0\n",
       "ever_married           0\n",
       "work_type              0\n",
       "Residence_type         0\n",
       "avg_glucose_level      0\n",
       "bmi                  201\n",
       "smoking_status         0\n",
       "stroke                 0\n",
       "dtype: int64"
      ]
     },
     "execution_count": 83,
     "metadata": {},
     "output_type": "execute_result"
    }
   ],
   "source": [
    "# Further investigation of the missing values\n",
    "df.isna().sum()"
   ]
  },
  {
   "cell_type": "markdown",
   "metadata": {},
   "source": [
    "Based on information above, there are 201 missing values in the 'bmi' column and no missing values in the other columns."
   ]
  },
  {
   "cell_type": "code",
   "execution_count": 84,
   "metadata": {},
   "outputs": [
    {
     "data": {
      "image/png": "[encoded data removed]",
      "text/plain": [
       "<Figure size 648x432 with 1 Axes>"
      ]
     },
     "metadata": {
      "needs_background": "light"
     },
     "output_type": "display_data"
    }
   ],
   "source": [
    "# Distribution of the 'bmi' column\n",
    "fig ,ax = plt.subplots(figsize = (9,6))\n",
    "sns.histplot(df['bmi'])\n",
    "ax.set_title('BMI distribution')\n",
    "ax.set_xlabel('BMI')\n",
    "ax.set_ylabel('Number of rows')\n",
    "plt.show()"
   ]
  },
  {
   "cell_type": "markdown",
   "metadata": {},
   "source": [
    "The 'bmi' column seems a little skewed to the right, so we will fill in the missing values with the median using Simple Imputer after we Train Test Split."
   ]
  },
  {
   "cell_type": "code",
   "execution_count": 85,
   "metadata": {},
   "outputs": [
    {
     "data": {
      "text/plain": [
       "Female    2994\n",
       "Male      2115\n",
       "Other        1\n",
       "Name: gender, dtype: int64"
      ]
     },
     "execution_count": 85,
     "metadata": {},
     "output_type": "execute_result"
    }
   ],
   "source": [
    "# Checking the value counts of the 'gender' column\n",
    "df['gender'].value_counts()"
   ]
  },
  {
   "cell_type": "markdown",
   "metadata": {},
   "source": [
    "There is only one line were the gender is 'other', so we will drop this row during our Data Preparation."
   ]
  },
  {
   "cell_type": "code",
   "execution_count": 86,
   "metadata": {},
   "outputs": [
    {
     "data": {
      "text/plain": [
       "0    4612\n",
       "1     498\n",
       "Name: hypertension, dtype: int64"
      ]
     },
     "execution_count": 86,
     "metadata": {},
     "output_type": "execute_result"
    }
   ],
   "source": [
    "# Checking the value counts of the 'hyperstension' column\n",
    "df['hypertension'].value_counts()"
   ]
  },
  {
   "cell_type": "code",
   "execution_count": 87,
   "metadata": {},
   "outputs": [
    {
     "data": {
      "text/plain": [
       "0    4834\n",
       "1     276\n",
       "Name: heart_disease, dtype: int64"
      ]
     },
     "execution_count": 87,
     "metadata": {},
     "output_type": "execute_result"
    }
   ],
   "source": [
    "# Checking the value counts of the 'heart_disease' column\n",
    "df['heart_disease'].value_counts()"
   ]
  },
  {
   "cell_type": "code",
   "execution_count": 88,
   "metadata": {},
   "outputs": [
    {
     "data": {
      "text/plain": [
       "Yes    3353\n",
       "No     1757\n",
       "Name: ever_married, dtype: int64"
      ]
     },
     "execution_count": 88,
     "metadata": {},
     "output_type": "execute_result"
    }
   ],
   "source": [
    "# Checking the value counts of the 'ever_married' column\n",
    "df['ever_married'].value_counts()"
   ]
  },
  {
   "cell_type": "code",
   "execution_count": 89,
   "metadata": {},
   "outputs": [
    {
     "data": {
      "text/plain": [
       "Private          2925\n",
       "Self-employed     819\n",
       "children          687\n",
       "Govt_job          657\n",
       "Never_worked       22\n",
       "Name: work_type, dtype: int64"
      ]
     },
     "execution_count": 89,
     "metadata": {},
     "output_type": "execute_result"
    }
   ],
   "source": [
    "# Checking the value counts of the 'work_type' column\n",
    "df['work_type'].value_counts()"
   ]
  },
  {
   "cell_type": "code",
   "execution_count": 90,
   "metadata": {},
   "outputs": [
    {
     "data": {
      "text/plain": [
       "Urban    2596\n",
       "Rural    2514\n",
       "Name: Residence_type, dtype: int64"
      ]
     },
     "execution_count": 90,
     "metadata": {},
     "output_type": "execute_result"
    }
   ],
   "source": [
    "# Checking the value counts of the 'Residence_type' column\n",
    "df['Residence_type'].value_counts()"
   ]
  },
  {
   "cell_type": "code",
   "execution_count": 91,
   "metadata": {},
   "outputs": [
    {
     "data": {
      "text/plain": [
       "never smoked       1892\n",
       "Unknown            1544\n",
       "formerly smoked     885\n",
       "smokes              789\n",
       "Name: smoking_status, dtype: int64"
      ]
     },
     "execution_count": 91,
     "metadata": {},
     "output_type": "execute_result"
    }
   ],
   "source": [
    "# Checking the value counts of the 'smoking_status' column\n",
    "df['smoking_status'].value_counts()"
   ]
  },
  {
   "cell_type": "markdown",
   "metadata": {},
   "source": [
    "There are 1544 indices in the dataset where the smoking status is 'Unknown'. This need to be further investigated."
   ]
  },
  {
   "cell_type": "code",
   "execution_count": 92,
   "metadata": {},
   "outputs": [
    {
     "data": {
      "text/html": [
       "<div>\n",
       "<style scoped>\n",
       "    .dataframe tbody tr th:only-of-type {\n",
       "        vertical-align: middle;\n",
       "    }\n",
       "\n",
       "    .dataframe tbody tr th {\n",
       "        vertical-align: top;\n",
       "    }\n",
       "\n",
       "    .dataframe thead th {\n",
       "        text-align: right;\n",
       "    }\n",
       "</style>\n",
       "<table border=\"1\" class=\"dataframe\">\n",
       "  <thead>\n",
       "    <tr style=\"text-align: right;\">\n",
       "      <th></th>\n",
       "      <th>id</th>\n",
       "      <th>gender</th>\n",
       "      <th>age</th>\n",
       "      <th>hypertension</th>\n",
       "      <th>heart_disease</th>\n",
       "      <th>ever_married</th>\n",
       "      <th>work_type</th>\n",
       "      <th>Residence_type</th>\n",
       "      <th>avg_glucose_level</th>\n",
       "      <th>bmi</th>\n",
       "      <th>smoking_status</th>\n",
       "      <th>stroke</th>\n",
       "    </tr>\n",
       "  </thead>\n",
       "  <tbody>\n",
       "    <tr>\n",
       "      <th>162</th>\n",
       "      <td>69768</td>\n",
       "      <td>Female</td>\n",
       "      <td>1.32</td>\n",
       "      <td>0</td>\n",
       "      <td>0</td>\n",
       "      <td>No</td>\n",
       "      <td>children</td>\n",
       "      <td>Urban</td>\n",
       "      <td>70.37</td>\n",
       "      <td>NaN</td>\n",
       "      <td>Unknown</td>\n",
       "      <td>1</td>\n",
       "    </tr>\n",
       "    <tr>\n",
       "      <th>249</th>\n",
       "      <td>30669</td>\n",
       "      <td>Male</td>\n",
       "      <td>3.00</td>\n",
       "      <td>0</td>\n",
       "      <td>0</td>\n",
       "      <td>No</td>\n",
       "      <td>children</td>\n",
       "      <td>Rural</td>\n",
       "      <td>95.12</td>\n",
       "      <td>18.0</td>\n",
       "      <td>Unknown</td>\n",
       "      <td>0</td>\n",
       "    </tr>\n",
       "    <tr>\n",
       "      <th>251</th>\n",
       "      <td>16523</td>\n",
       "      <td>Female</td>\n",
       "      <td>8.00</td>\n",
       "      <td>0</td>\n",
       "      <td>0</td>\n",
       "      <td>No</td>\n",
       "      <td>Private</td>\n",
       "      <td>Urban</td>\n",
       "      <td>110.89</td>\n",
       "      <td>17.6</td>\n",
       "      <td>Unknown</td>\n",
       "      <td>0</td>\n",
       "    </tr>\n",
       "    <tr>\n",
       "      <th>282</th>\n",
       "      <td>33759</td>\n",
       "      <td>Female</td>\n",
       "      <td>3.00</td>\n",
       "      <td>0</td>\n",
       "      <td>0</td>\n",
       "      <td>No</td>\n",
       "      <td>children</td>\n",
       "      <td>Urban</td>\n",
       "      <td>73.74</td>\n",
       "      <td>16.0</td>\n",
       "      <td>Unknown</td>\n",
       "      <td>0</td>\n",
       "    </tr>\n",
       "    <tr>\n",
       "      <th>291</th>\n",
       "      <td>11014</td>\n",
       "      <td>Male</td>\n",
       "      <td>4.00</td>\n",
       "      <td>0</td>\n",
       "      <td>0</td>\n",
       "      <td>No</td>\n",
       "      <td>children</td>\n",
       "      <td>Rural</td>\n",
       "      <td>79.17</td>\n",
       "      <td>20.0</td>\n",
       "      <td>Unknown</td>\n",
       "      <td>0</td>\n",
       "    </tr>\n",
       "    <tr>\n",
       "      <th>...</th>\n",
       "      <td>...</td>\n",
       "      <td>...</td>\n",
       "      <td>...</td>\n",
       "      <td>...</td>\n",
       "      <td>...</td>\n",
       "      <td>...</td>\n",
       "      <td>...</td>\n",
       "      <td>...</td>\n",
       "      <td>...</td>\n",
       "      <td>...</td>\n",
       "      <td>...</td>\n",
       "      <td>...</td>\n",
       "    </tr>\n",
       "    <tr>\n",
       "      <th>5078</th>\n",
       "      <td>27446</td>\n",
       "      <td>Female</td>\n",
       "      <td>8.00</td>\n",
       "      <td>0</td>\n",
       "      <td>0</td>\n",
       "      <td>No</td>\n",
       "      <td>children</td>\n",
       "      <td>Urban</td>\n",
       "      <td>76.31</td>\n",
       "      <td>15.5</td>\n",
       "      <td>Unknown</td>\n",
       "      <td>0</td>\n",
       "    </tr>\n",
       "    <tr>\n",
       "      <th>5079</th>\n",
       "      <td>42709</td>\n",
       "      <td>Male</td>\n",
       "      <td>1.72</td>\n",
       "      <td>0</td>\n",
       "      <td>0</td>\n",
       "      <td>No</td>\n",
       "      <td>children</td>\n",
       "      <td>Urban</td>\n",
       "      <td>77.28</td>\n",
       "      <td>17.1</td>\n",
       "      <td>Unknown</td>\n",
       "      <td>0</td>\n",
       "    </tr>\n",
       "    <tr>\n",
       "      <th>5089</th>\n",
       "      <td>56714</td>\n",
       "      <td>Female</td>\n",
       "      <td>0.72</td>\n",
       "      <td>0</td>\n",
       "      <td>0</td>\n",
       "      <td>No</td>\n",
       "      <td>children</td>\n",
       "      <td>Rural</td>\n",
       "      <td>62.13</td>\n",
       "      <td>16.8</td>\n",
       "      <td>Unknown</td>\n",
       "      <td>0</td>\n",
       "    </tr>\n",
       "    <tr>\n",
       "      <th>5095</th>\n",
       "      <td>68598</td>\n",
       "      <td>Male</td>\n",
       "      <td>1.08</td>\n",
       "      <td>0</td>\n",
       "      <td>0</td>\n",
       "      <td>No</td>\n",
       "      <td>children</td>\n",
       "      <td>Rural</td>\n",
       "      <td>79.15</td>\n",
       "      <td>17.4</td>\n",
       "      <td>Unknown</td>\n",
       "      <td>0</td>\n",
       "    </tr>\n",
       "    <tr>\n",
       "      <th>5098</th>\n",
       "      <td>579</td>\n",
       "      <td>Male</td>\n",
       "      <td>9.00</td>\n",
       "      <td>0</td>\n",
       "      <td>0</td>\n",
       "      <td>No</td>\n",
       "      <td>children</td>\n",
       "      <td>Urban</td>\n",
       "      <td>71.88</td>\n",
       "      <td>17.5</td>\n",
       "      <td>Unknown</td>\n",
       "      <td>0</td>\n",
       "    </tr>\n",
       "  </tbody>\n",
       "</table>\n",
       "<p>547 rows × 12 columns</p>\n",
       "</div>"
      ],
      "text/plain": [
       "         id  gender   age  hypertension  heart_disease ever_married work_type  \\\n",
       "162   69768  Female  1.32             0              0           No  children   \n",
       "249   30669    Male  3.00             0              0           No  children   \n",
       "251   16523  Female  8.00             0              0           No   Private   \n",
       "282   33759  Female  3.00             0              0           No  children   \n",
       "291   11014    Male  4.00             0              0           No  children   \n",
       "...     ...     ...   ...           ...            ...          ...       ...   \n",
       "5078  27446  Female  8.00             0              0           No  children   \n",
       "5079  42709    Male  1.72             0              0           No  children   \n",
       "5089  56714  Female  0.72             0              0           No  children   \n",
       "5095  68598    Male  1.08             0              0           No  children   \n",
       "5098    579    Male  9.00             0              0           No  children   \n",
       "\n",
       "     Residence_type  avg_glucose_level   bmi smoking_status  stroke  \n",
       "162           Urban              70.37   NaN        Unknown       1  \n",
       "249           Rural              95.12  18.0        Unknown       0  \n",
       "251           Urban             110.89  17.6        Unknown       0  \n",
       "282           Urban              73.74  16.0        Unknown       0  \n",
       "291           Rural              79.17  20.0        Unknown       0  \n",
       "...             ...                ...   ...            ...     ...  \n",
       "5078          Urban              76.31  15.5        Unknown       0  \n",
       "5079          Urban              77.28  17.1        Unknown       0  \n",
       "5089          Rural              62.13  16.8        Unknown       0  \n",
       "5095          Rural              79.15  17.4        Unknown       0  \n",
       "5098          Urban              71.88  17.5        Unknown       0  \n",
       "\n",
       "[547 rows x 12 columns]"
      ]
     },
     "execution_count": 92,
     "metadata": {},
     "output_type": "execute_result"
    }
   ],
   "source": [
    "# Checking the smoking status for 'unknown' and age below 13\n",
    "df[(df['smoking_status'] == 'Unknown') & (df['age'] < 13)]"
   ]
  },
  {
   "cell_type": "markdown",
   "metadata": {},
   "source": [
    "Based on the global statistic for smoking in children, we will later change the value in 'smoking_status' from 'Unknown' to 'never smoked' for those rows the where the age is below 13 years old."
   ]
  },
  {
   "cell_type": "code",
   "execution_count": 93,
   "metadata": {},
   "outputs": [
    {
     "data": {
      "text/plain": [
       "0    4861\n",
       "1     249\n",
       "Name: stroke, dtype: int64"
      ]
     },
     "execution_count": 93,
     "metadata": {},
     "output_type": "execute_result"
    }
   ],
   "source": [
    "# Distribution of stroke\n",
    "df['stroke'].value_counts()"
   ]
  },
  {
   "cell_type": "markdown",
   "metadata": {},
   "source": [
    "In most of the cases, 4861 indices, the patient had no history of a stroke. \n",
    "\n",
    "In 249 of the cases, the patient had a history of a stroke.\n"
   ]
  },
  {
   "cell_type": "markdown",
   "metadata": {},
   "source": [
    "## Data Preparation"
   ]
  },
  {
   "cell_type": "code",
   "execution_count": 94,
   "metadata": {},
   "outputs": [],
   "source": [
    "# Dropping the id column as we will not be working with this column\n",
    "df.drop('id', axis=1, inplace=True)"
   ]
  },
  {
   "cell_type": "code",
   "execution_count": 95,
   "metadata": {},
   "outputs": [],
   "source": [
    "# Dropping the row with gender 'other'\n",
    "df.drop(df[df.gender == 'Other'].index, inplace = True)"
   ]
  },
  {
   "cell_type": "code",
   "execution_count": 96,
   "metadata": {},
   "outputs": [],
   "source": [
    "# Reclassify those who are under 13 as never smoker\n",
    "df.loc[((df['smoking_status'] == 'Unknown') & (df['age'] < 13)), 'smoking_status'] = 'never smoked'"
   ]
  },
  {
   "cell_type": "code",
   "execution_count": 97,
   "metadata": {},
   "outputs": [
    {
     "data": {
      "text/plain": [
       "never smoked       2439\n",
       "Unknown             997\n",
       "formerly smoked     884\n",
       "smokes              789\n",
       "Name: smoking_status, dtype: int64"
      ]
     },
     "execution_count": 97,
     "metadata": {},
     "output_type": "execute_result"
    }
   ],
   "source": [
    "# Checking to see if the code above worked\n",
    "df['smoking_status'].value_counts()"
   ]
  },
  {
   "cell_type": "markdown",
   "metadata": {},
   "source": [
    "Based on the values in the 'avg_glucose_level' column, we will assume that the glucose testing was done postprandial (after eating).\n",
    "\n",
    "* A postprandial blood sugar level of less than 70 mg/dL indicates hypoglycemia.\n",
    "\n",
    "* A postprandial blood sugar level of greater than or equal to 70 mg/dL and less than or equal to 140 mg/dL indicates normal glucose levels.\n",
    "\n",
    "* A postprandial blood sugar level of greater than 140 mg/dL and less than or equal to 200 indicates pre-diabetes.\n",
    "\n",
    "* A postprandial blood sugar level of greater than 200 indicates diabetes.\n",
    "\n",
    "Below, we add a new column and categorize the data accordingly."
   ]
  },
  {
   "cell_type": "code",
   "execution_count": 98,
   "metadata": {},
   "outputs": [],
   "source": [
    "# Adding new column to categorize the glucose level\n",
    "df.loc[df['avg_glucose_level'] < 70, 'blood_sugar_cat'] = 'hypoglycemia'\n",
    "df.loc[(df['avg_glucose_level'] >= 70) & (df['avg_glucose_level'] <= 140), 'blood_sugar_cat'] = 'normal'\n",
    "df.loc[(df['avg_glucose_level'] > 140) & (df['avg_glucose_level'] <= 200), 'blood_sugar_cat'] = 'pre-diabetic'\n",
    "df.loc[df['avg_glucose_level'] > 200, 'blood_sugar_cat'] = 'diabetic'"
   ]
  },
  {
   "cell_type": "markdown",
   "metadata": {},
   "source": [
    "## Data Analysis"
   ]
  },
  {
   "cell_type": "markdown",
   "metadata": {},
   "source": [
    "### Distribution of ages among those who have had a stroke"
   ]
  },
  {
   "cell_type": "code",
   "execution_count": 99,
   "metadata": {},
   "outputs": [
    {
     "data": {
      "image/png": "[encoded data removed]",
      "text/plain": [
       "<Figure size 1080x504 with 1 Axes>"
      ]
     },
     "metadata": {
      "needs_background": "light"
     },
     "output_type": "display_data"
    }
   ],
   "source": [
    "# Making a box plot to show the distributions of age for those who have had a stroke\n",
    "stroke_yes = df.loc[df['stroke'] == 1]\n",
    "fig, ax = plt.subplots(figsize = (15, 7))\n",
    "fig = sns.boxplot(x=stroke_yes['age'])\n",
    "ax.set_title('Distribution of BMI Among Those With a History of a Stroke', fontdict = { 'fontsize': 18});\n",
    "ax.set_xlabel('Age', fontdict = { 'fontsize': 16});"
   ]
  },
  {
   "cell_type": "markdown",
   "metadata": {},
   "source": [
    "### Distribution of BMI among those who have had a stroke"
   ]
  },
  {
   "cell_type": "code",
   "execution_count": 100,
   "metadata": {},
   "outputs": [
    {
     "data": {
      "image/png": "[encoded data removed]",
      "text/plain": [
       "<Figure size 1080x504 with 1 Axes>"
      ]
     },
     "metadata": {
      "needs_background": "light"
     },
     "output_type": "display_data"
    }
   ],
   "source": [
    "# Making a box plot to show the distributions of bmi for those who have had a stroke\n",
    "fig, ax = plt.subplots(figsize = (15, 7))\n",
    "fig = sns.boxplot(x=stroke_yes['bmi'])\n",
    "ax.set_title('Distribution of BMI Among Those With a History of a Stroke', fontdict = { 'fontsize': 18});\n",
    "ax.set_xlabel('BMI', fontdict = { 'fontsize': 16});"
   ]
  },
  {
   "cell_type": "code",
   "execution_count": 101,
   "metadata": {},
   "outputs": [],
   "source": [
    "# stroke_and_ever_married_yes = df.loc[(df['ever_married'] == 'Yes') & (df['stroke'] == 1)]\n",
    "# gender_mean_stroke_age = stroke_and_ever_married_yes[['age', 'gender']].groupby('gender').mean().squeeze().values\n",
    "# fig, ax = plt.subplots(figsize = (15, 7))\n",
    "# fig = sns.histplot(x=stroke_and_ever_married_yes['gender'])"
   ]
  },
  {
   "cell_type": "markdown",
   "metadata": {},
   "source": [
    "## Modeling"
   ]
  },
  {
   "cell_type": "markdown",
   "metadata": {},
   "source": [
    "**Due to the fact that we are interested in detecting stroke risk, a false negative is more costly than a false positive.**\n",
    "\n",
    "**Therefore, the metric that matters most in our project is recall.**"
   ]
  },
  {
   "cell_type": "code",
   "execution_count": 160,
   "metadata": {},
   "outputs": [],
   "source": [
    "# Train Test Split\n",
    "X = df.drop(columns = 'stroke', axis = 1)\n",
    "y = df['stroke']\n",
    "X_train, X_test, y_train, y_test = train_test_split(X, y, stratify = y, test_size = 0.20, random_state = 42)"
   ]
  },
  {
   "cell_type": "code",
   "execution_count": 161,
   "metadata": {},
   "outputs": [],
   "source": [
    "# Simple imputer for missing bmi values \n",
    "bmi_imp = SimpleImputer(missing_values=np.nan, strategy='median')\n",
    "X_train['bmi'] = bmi_imp.fit_transform(X_train[['bmi']])\n",
    "X_test['bmi'] = bmi_imp.transform(X_test[['bmi']])"
   ]
  },
  {
   "cell_type": "code",
   "execution_count": 162,
   "metadata": {},
   "outputs": [],
   "source": [
    "# One Hot Encoding outside of the pipeline in order to use SMOTE for \n",
    "# the imbalanced data and avoid conflict in the pipeline\n",
    "ohelist = ['gender', 'ever_married', 'work_type', 'Residence_type','smoking_status', 'blood_sugar_cat']\n",
    "oheX_train = pd.get_dummies(X_train[ohelist])\n",
    "oheX_test =  pd.get_dummies(X_test[ohelist])\n",
    "\n",
    "# Joining the One Hot Encoded DataFrame with the original X_train and X_test\n",
    "X_train = pd.concat([X_train, oheX_train], 1)\n",
    "X_test = pd.concat([X_test, oheX_test], 1)"
   ]
  },
  {
   "cell_type": "code",
   "execution_count": 163,
   "metadata": {},
   "outputs": [],
   "source": [
    "# Dropping the original categorical columns\n",
    "X_train.drop(columns = ['gender', 'ever_married', 'work_type', \n",
    "                        'Residence_type','smoking_status', 'blood_sugar_cat'], inplace = True)\n",
    "X_test.drop(columns = ['gender', 'ever_married', 'work_type', \n",
    "                       'Residence_type','smoking_status', 'blood_sugar_cat'], inplace = True)"
   ]
  },
  {
   "cell_type": "code",
   "execution_count": 165,
   "metadata": {},
   "outputs": [],
   "source": [
    "# Using SMOTE to correct the imbalanced data\n",
    "sm = SMOTE(random_state = 42)\n",
    "X_train_sm, y_train_sm = sm.fit_resample(X_train, y_train)"
   ]
  },
  {
   "cell_type": "code",
   "execution_count": 166,
   "metadata": {},
   "outputs": [
    {
     "data": {
      "text/plain": [
       "1    3888\n",
       "0    3888\n",
       "Name: stroke, dtype: int64"
      ]
     },
     "execution_count": 166,
     "metadata": {},
     "output_type": "execute_result"
    }
   ],
   "source": [
    "# Checking that the target variable is now balanced\n",
    "y_train_sm.value_counts()"
   ]
  },
  {
   "cell_type": "markdown",
   "metadata": {},
   "source": [
    "### Creating Column Transformer Pipeline"
   ]
  },
  {
   "cell_type": "code",
   "execution_count": 173,
   "metadata": {},
   "outputs": [],
   "source": [
    "# Define column transformer pipeline with standard scaler\n",
    "norm_pipe = Pipeline([('norm_pipe', StandardScaler())])\n",
    "\n",
    "# Selecting all columns\n",
    "all_cols = X_train.columns\n",
    "all_cols = all_cols.tolist()\n",
    "\n",
    "ct = ColumnTransformer(transformers = \n",
    "    [(\"norm_pipe\", norm_pipe, all_cols)])"
   ]
  },
  {
   "cell_type": "markdown",
   "metadata": {},
   "source": [
    "### Model 1: Baseline Model (Logistic Regression)"
   ]
  },
  {
   "cell_type": "code",
   "execution_count": 174,
   "metadata": {},
   "outputs": [],
   "source": [
    "# Creating the baseline model pipeline\n",
    "steps = [('preprocess', ct), ('model', LogisticRegression())]\n",
    "baseline_pipeline = Pipeline(steps)"
   ]
  },
  {
   "cell_type": "code",
   "execution_count": 175,
   "metadata": {},
   "outputs": [
    {
     "data": {
      "text/html": [
       "<style>#sk-container-id-4 {color: black;background-color: white;}#sk-container-id-4 pre{padding: 0;}#sk-container-id-4 div.sk-toggleable {background-color: white;}#sk-container-id-4 label.sk-toggleable__label {cursor: pointer;display: block;width: 100%;margin-bottom: 0;padding: 0.3em;box-sizing: border-box;text-align: center;}#sk-container-id-4 label.sk-toggleable__label-arrow:before {content: \"▸\";float: left;margin-right: 0.25em;color: #696969;}#sk-container-id-4 label.sk-toggleable__label-arrow:hover:before {color: black;}#sk-container-id-4 div.sk-estimator:hover label.sk-toggleable__label-arrow:before {color: black;}#sk-container-id-4 div.sk-toggleable__content {max-height: 0;max-width: 0;overflow: hidden;text-align: left;background-color: #f0f8ff;}#sk-container-id-4 div.sk-toggleable__content pre {margin: 0.2em;color: black;border-radius: 0.25em;background-color: #f0f8ff;}#sk-container-id-4 input.sk-toggleable__control:checked~div.sk-toggleable__content {max-height: 200px;max-width: 100%;overflow: auto;}#sk-container-id-4 input.sk-toggleable__control:checked~label.sk-toggleable__label-arrow:before {content: \"▾\";}#sk-container-id-4 div.sk-estimator input.sk-toggleable__control:checked~label.sk-toggleable__label {background-color: #d4ebff;}#sk-container-id-4 div.sk-label input.sk-toggleable__control:checked~label.sk-toggleable__label {background-color: #d4ebff;}#sk-container-id-4 input.sk-hidden--visually {border: 0;clip: rect(1px 1px 1px 1px);clip: rect(1px, 1px, 1px, 1px);height: 1px;margin: -1px;overflow: hidden;padding: 0;position: absolute;width: 1px;}#sk-container-id-4 div.sk-estimator {font-family: monospace;background-color: #f0f8ff;border: 1px dotted black;border-radius: 0.25em;box-sizing: border-box;margin-bottom: 0.5em;}#sk-container-id-4 div.sk-estimator:hover {background-color: #d4ebff;}#sk-container-id-4 div.sk-parallel-item::after {content: \"\";width: 100%;border-bottom: 1px solid gray;flex-grow: 1;}#sk-container-id-4 div.sk-label:hover label.sk-toggleable__label {background-color: #d4ebff;}#sk-container-id-4 div.sk-serial::before {content: \"\";position: absolute;border-left: 1px solid gray;box-sizing: border-box;top: 0;bottom: 0;left: 50%;z-index: 0;}#sk-container-id-4 div.sk-serial {display: flex;flex-direction: column;align-items: center;background-color: white;padding-right: 0.2em;padding-left: 0.2em;position: relative;}#sk-container-id-4 div.sk-item {position: relative;z-index: 1;}#sk-container-id-4 div.sk-parallel {display: flex;align-items: stretch;justify-content: center;background-color: white;position: relative;}#sk-container-id-4 div.sk-item::before, #sk-container-id-4 div.sk-parallel-item::before {content: \"\";position: absolute;border-left: 1px solid gray;box-sizing: border-box;top: 0;bottom: 0;left: 50%;z-index: -1;}#sk-container-id-4 div.sk-parallel-item {display: flex;flex-direction: column;z-index: 1;position: relative;background-color: white;}#sk-container-id-4 div.sk-parallel-item:first-child::after {align-self: flex-end;width: 50%;}#sk-container-id-4 div.sk-parallel-item:last-child::after {align-self: flex-start;width: 50%;}#sk-container-id-4 div.sk-parallel-item:only-child::after {width: 0;}#sk-container-id-4 div.sk-dashed-wrapped {border: 1px dashed gray;margin: 0 0.4em 0.5em 0.4em;box-sizing: border-box;padding-bottom: 0.4em;background-color: white;}#sk-container-id-4 div.sk-label label {font-family: monospace;font-weight: bold;display: inline-block;line-height: 1.2em;}#sk-container-id-4 div.sk-label-container {text-align: center;}#sk-container-id-4 div.sk-container {/* jupyter's `normalize.less` sets `[hidden] { display: none; }` but bootstrap.min.css set `[hidden] { display: none !important; }` so we also need the `!important` here to be able to override the default hidden behavior on the sphinx rendered scikit-learn.org. See: https://github.com/scikit-learn/scikit-learn/issues/21755 */display: inline-block !important;position: relative;}#sk-container-id-4 div.sk-text-repr-fallback {display: none;}</style><div id=\"sk-container-id-4\" class=\"sk-top-container\"><div class=\"sk-text-repr-fallback\"><pre>Pipeline(steps=[(&#x27;preprocess&#x27;,\n",
       "                 ColumnTransformer(transformers=[(&#x27;norm_pipe&#x27;,\n",
       "                                                  Pipeline(steps=[(&#x27;norm_pipe&#x27;,\n",
       "                                                                   StandardScaler())]),\n",
       "                                                  [&#x27;age&#x27;, &#x27;hypertension&#x27;,\n",
       "                                                   &#x27;heart_disease&#x27;,\n",
       "                                                   &#x27;avg_glucose_level&#x27;, &#x27;bmi&#x27;,\n",
       "                                                   &#x27;gender_Female&#x27;,\n",
       "                                                   &#x27;gender_Male&#x27;,\n",
       "                                                   &#x27;ever_married_No&#x27;,\n",
       "                                                   &#x27;ever_married_Yes&#x27;,\n",
       "                                                   &#x27;work_type_Govt_job&#x27;,\n",
       "                                                   &#x27;work_type_Never_worked&#x27;,\n",
       "                                                   &#x27;work_type_Private&#x27;,\n",
       "                                                   &#x27;work_type_Self-employed&#x27;,\n",
       "                                                   &#x27;work_type_children&#x27;,\n",
       "                                                   &#x27;Residence_type_Rural&#x27;,\n",
       "                                                   &#x27;Residence_type_Urban&#x27;,\n",
       "                                                   &#x27;smoking_status_Unknown&#x27;,\n",
       "                                                   &#x27;smoking_status_formerly &#x27;\n",
       "                                                   &#x27;smoked&#x27;,\n",
       "                                                   &#x27;smoking_status_never &#x27;\n",
       "                                                   &#x27;smoked&#x27;,\n",
       "                                                   &#x27;smoking_status_smokes&#x27;,\n",
       "                                                   &#x27;blood_sugar_cat_diabetic&#x27;,\n",
       "                                                   &#x27;blood_sugar_cat_hypoglycemia&#x27;,\n",
       "                                                   &#x27;blood_sugar_cat_normal&#x27;,\n",
       "                                                   &#x27;blood_sugar_cat_pre-diabetic&#x27;])])),\n",
       "                (&#x27;model&#x27;, LogisticRegression())])</pre><b>In a Jupyter environment, please rerun this cell to show the HTML representation or trust the notebook. <br />On GitHub, the HTML representation is unable to render, please try loading this page with nbviewer.org.</b></div><div class=\"sk-container\" hidden><div class=\"sk-item sk-dashed-wrapped\"><div class=\"sk-label-container\"><div class=\"sk-label sk-toggleable\"><input class=\"sk-toggleable__control sk-hidden--visually\" id=\"sk-estimator-id-16\" type=\"checkbox\" ><label for=\"sk-estimator-id-16\" class=\"sk-toggleable__label sk-toggleable__label-arrow\">Pipeline</label><div class=\"sk-toggleable__content\"><pre>Pipeline(steps=[(&#x27;preprocess&#x27;,\n",
       "                 ColumnTransformer(transformers=[(&#x27;norm_pipe&#x27;,\n",
       "                                                  Pipeline(steps=[(&#x27;norm_pipe&#x27;,\n",
       "                                                                   StandardScaler())]),\n",
       "                                                  [&#x27;age&#x27;, &#x27;hypertension&#x27;,\n",
       "                                                   &#x27;heart_disease&#x27;,\n",
       "                                                   &#x27;avg_glucose_level&#x27;, &#x27;bmi&#x27;,\n",
       "                                                   &#x27;gender_Female&#x27;,\n",
       "                                                   &#x27;gender_Male&#x27;,\n",
       "                                                   &#x27;ever_married_No&#x27;,\n",
       "                                                   &#x27;ever_married_Yes&#x27;,\n",
       "                                                   &#x27;work_type_Govt_job&#x27;,\n",
       "                                                   &#x27;work_type_Never_worked&#x27;,\n",
       "                                                   &#x27;work_type_Private&#x27;,\n",
       "                                                   &#x27;work_type_Self-employed&#x27;,\n",
       "                                                   &#x27;work_type_children&#x27;,\n",
       "                                                   &#x27;Residence_type_Rural&#x27;,\n",
       "                                                   &#x27;Residence_type_Urban&#x27;,\n",
       "                                                   &#x27;smoking_status_Unknown&#x27;,\n",
       "                                                   &#x27;smoking_status_formerly &#x27;\n",
       "                                                   &#x27;smoked&#x27;,\n",
       "                                                   &#x27;smoking_status_never &#x27;\n",
       "                                                   &#x27;smoked&#x27;,\n",
       "                                                   &#x27;smoking_status_smokes&#x27;,\n",
       "                                                   &#x27;blood_sugar_cat_diabetic&#x27;,\n",
       "                                                   &#x27;blood_sugar_cat_hypoglycemia&#x27;,\n",
       "                                                   &#x27;blood_sugar_cat_normal&#x27;,\n",
       "                                                   &#x27;blood_sugar_cat_pre-diabetic&#x27;])])),\n",
       "                (&#x27;model&#x27;, LogisticRegression())])</pre></div></div></div><div class=\"sk-serial\"><div class=\"sk-item sk-dashed-wrapped\"><div class=\"sk-label-container\"><div class=\"sk-label sk-toggleable\"><input class=\"sk-toggleable__control sk-hidden--visually\" id=\"sk-estimator-id-17\" type=\"checkbox\" ><label for=\"sk-estimator-id-17\" class=\"sk-toggleable__label sk-toggleable__label-arrow\">preprocess: ColumnTransformer</label><div class=\"sk-toggleable__content\"><pre>ColumnTransformer(transformers=[(&#x27;norm_pipe&#x27;,\n",
       "                                 Pipeline(steps=[(&#x27;norm_pipe&#x27;,\n",
       "                                                  StandardScaler())]),\n",
       "                                 [&#x27;age&#x27;, &#x27;hypertension&#x27;, &#x27;heart_disease&#x27;,\n",
       "                                  &#x27;avg_glucose_level&#x27;, &#x27;bmi&#x27;, &#x27;gender_Female&#x27;,\n",
       "                                  &#x27;gender_Male&#x27;, &#x27;ever_married_No&#x27;,\n",
       "                                  &#x27;ever_married_Yes&#x27;, &#x27;work_type_Govt_job&#x27;,\n",
       "                                  &#x27;work_type_Never_worked&#x27;, &#x27;work_type_Private&#x27;,\n",
       "                                  &#x27;work_type_Self-employed&#x27;,\n",
       "                                  &#x27;work_type_children&#x27;, &#x27;Residence_type_Rural&#x27;,\n",
       "                                  &#x27;Residence_type_Urban&#x27;,\n",
       "                                  &#x27;smoking_status_Unknown&#x27;,\n",
       "                                  &#x27;smoking_status_formerly smoked&#x27;,\n",
       "                                  &#x27;smoking_status_never smoked&#x27;,\n",
       "                                  &#x27;smoking_status_smokes&#x27;,\n",
       "                                  &#x27;blood_sugar_cat_diabetic&#x27;,\n",
       "                                  &#x27;blood_sugar_cat_hypoglycemia&#x27;,\n",
       "                                  &#x27;blood_sugar_cat_normal&#x27;,\n",
       "                                  &#x27;blood_sugar_cat_pre-diabetic&#x27;])])</pre></div></div></div><div class=\"sk-parallel\"><div class=\"sk-parallel-item\"><div class=\"sk-item\"><div class=\"sk-label-container\"><div class=\"sk-label sk-toggleable\"><input class=\"sk-toggleable__control sk-hidden--visually\" id=\"sk-estimator-id-18\" type=\"checkbox\" ><label for=\"sk-estimator-id-18\" class=\"sk-toggleable__label sk-toggleable__label-arrow\">norm_pipe</label><div class=\"sk-toggleable__content\"><pre>[&#x27;age&#x27;, &#x27;hypertension&#x27;, &#x27;heart_disease&#x27;, &#x27;avg_glucose_level&#x27;, &#x27;bmi&#x27;, &#x27;gender_Female&#x27;, &#x27;gender_Male&#x27;, &#x27;ever_married_No&#x27;, &#x27;ever_married_Yes&#x27;, &#x27;work_type_Govt_job&#x27;, &#x27;work_type_Never_worked&#x27;, &#x27;work_type_Private&#x27;, &#x27;work_type_Self-employed&#x27;, &#x27;work_type_children&#x27;, &#x27;Residence_type_Rural&#x27;, &#x27;Residence_type_Urban&#x27;, &#x27;smoking_status_Unknown&#x27;, &#x27;smoking_status_formerly smoked&#x27;, &#x27;smoking_status_never smoked&#x27;, &#x27;smoking_status_smokes&#x27;, &#x27;blood_sugar_cat_diabetic&#x27;, &#x27;blood_sugar_cat_hypoglycemia&#x27;, &#x27;blood_sugar_cat_normal&#x27;, &#x27;blood_sugar_cat_pre-diabetic&#x27;]</pre></div></div></div><div class=\"sk-serial\"><div class=\"sk-item\"><div class=\"sk-serial\"><div class=\"sk-item\"><div class=\"sk-estimator sk-toggleable\"><input class=\"sk-toggleable__control sk-hidden--visually\" id=\"sk-estimator-id-19\" type=\"checkbox\" ><label for=\"sk-estimator-id-19\" class=\"sk-toggleable__label sk-toggleable__label-arrow\">StandardScaler</label><div class=\"sk-toggleable__content\"><pre>StandardScaler()</pre></div></div></div></div></div></div></div></div></div></div><div class=\"sk-item\"><div class=\"sk-estimator sk-toggleable\"><input class=\"sk-toggleable__control sk-hidden--visually\" id=\"sk-estimator-id-20\" type=\"checkbox\" ><label for=\"sk-estimator-id-20\" class=\"sk-toggleable__label sk-toggleable__label-arrow\">LogisticRegression</label><div class=\"sk-toggleable__content\"><pre>LogisticRegression()</pre></div></div></div></div></div></div></div>"
      ],
      "text/plain": [
       "Pipeline(steps=[('preprocess',\n",
       "                 ColumnTransformer(transformers=[('norm_pipe',\n",
       "                                                  Pipeline(steps=[('norm_pipe',\n",
       "                                                                   StandardScaler())]),\n",
       "                                                  ['age', 'hypertension',\n",
       "                                                   'heart_disease',\n",
       "                                                   'avg_glucose_level', 'bmi',\n",
       "                                                   'gender_Female',\n",
       "                                                   'gender_Male',\n",
       "                                                   'ever_married_No',\n",
       "                                                   'ever_married_Yes',\n",
       "                                                   'work_type_Govt_job',\n",
       "                                                   'work_type_Never_worked',\n",
       "                                                   'work_type_Private',\n",
       "                                                   'work_type_Self-employed',\n",
       "                                                   'work_type_children',\n",
       "                                                   'Residence_type_Rural',\n",
       "                                                   'Residence_type_Urban',\n",
       "                                                   'smoking_status_Unknown',\n",
       "                                                   'smoking_status_formerly '\n",
       "                                                   'smoked',\n",
       "                                                   'smoking_status_never '\n",
       "                                                   'smoked',\n",
       "                                                   'smoking_status_smokes',\n",
       "                                                   'blood_sugar_cat_diabetic',\n",
       "                                                   'blood_sugar_cat_hypoglycemia',\n",
       "                                                   'blood_sugar_cat_normal',\n",
       "                                                   'blood_sugar_cat_pre-diabetic'])])),\n",
       "                ('model', LogisticRegression())])"
      ]
     },
     "execution_count": 175,
     "metadata": {},
     "output_type": "execute_result"
    }
   ],
   "source": [
    "baseline_pipeline.fit(X_train_sm, y_train_sm)"
   ]
  },
  {
   "cell_type": "code",
   "execution_count": 176,
   "metadata": {},
   "outputs": [],
   "source": [
    "# Calculating y_pred\n",
    "y_pred = baseline_pipeline.predict(X_test)"
   ]
  },
  {
   "cell_type": "code",
   "execution_count": 227,
   "metadata": {},
   "outputs": [
    {
     "data": {
      "image/png": "[encoded data removed]",
      "text/plain": [
       "<Figure size 720x576 with 2 Axes>"
      ]
     },
     "metadata": {
      "needs_background": "light"
     },
     "output_type": "display_data"
    }
   ],
   "source": [
    "# Creating a confusion matrix\n",
    "fig, ax = plt.subplots(figsize = (10, 8))\n",
    "plt.rcParams.update({'font.size': 14})\n",
    "plot_confusion_matrix(baseline_pipeline, X_test, y_test, ax=ax);"
   ]
  },
  {
   "cell_type": "code",
   "execution_count": 178,
   "metadata": {},
   "outputs": [
    {
     "name": "stdout",
     "output_type": "stream",
     "text": [
      "Baseline Model Recall Score: 0.04\n"
     ]
    }
   ],
   "source": [
    "# Calculating recall score\n",
    "model_1_recall = recall_score(y_test, y_pred)\n",
    "model_1_recall\n",
    "\n",
    "print('Baseline Model Recall Score:', model_1_recall)"
   ]
  },
  {
   "cell_type": "markdown",
   "metadata": {},
   "source": [
    "A recall score of .04 is weak, which is likely coming from the 48 false negatives (as can be seen in the bottom left of the confusion matrix). Therefore, we will find the optimal threshold for this baseline model to maximize our recall score."
   ]
  },
  {
   "cell_type": "code",
   "execution_count": 179,
   "metadata": {},
   "outputs": [],
   "source": [
    "# Calculating y probabilities\n",
    "y_prob = baseline_pipeline.predict_proba(X_test)"
   ]
  },
  {
   "cell_type": "code",
   "execution_count": 248,
   "metadata": {},
   "outputs": [],
   "source": [
    "# Using roc_curve() to find fpr, tpr, and thresholds\n",
    "fpr, tpr, thresholds = roc_curve(y_test, y_prob[:,1])"
   ]
  },
  {
   "cell_type": "code",
   "execution_count": 246,
   "metadata": {},
   "outputs": [
    {
     "data": {
      "text/html": [
       "<div>\n",
       "<style scoped>\n",
       "    .dataframe tbody tr th:only-of-type {\n",
       "        vertical-align: middle;\n",
       "    }\n",
       "\n",
       "    .dataframe tbody tr th {\n",
       "        vertical-align: top;\n",
       "    }\n",
       "\n",
       "    .dataframe thead th {\n",
       "        text-align: right;\n",
       "    }\n",
       "</style>\n",
       "<table border=\"1\" class=\"dataframe\">\n",
       "  <thead>\n",
       "    <tr style=\"text-align: right;\">\n",
       "      <th></th>\n",
       "      <th>threshold</th>\n",
       "      <th>tpr</th>\n",
       "      <th>fpr</th>\n",
       "    </tr>\n",
       "  </thead>\n",
       "  <tbody>\n",
       "    <tr>\n",
       "      <th>1</th>\n",
       "      <td>0.564276</td>\n",
       "      <td>0.00</td>\n",
       "      <td>0.001029</td>\n",
       "    </tr>\n",
       "    <tr>\n",
       "      <th>2</th>\n",
       "      <td>0.526852</td>\n",
       "      <td>0.00</td>\n",
       "      <td>0.002058</td>\n",
       "    </tr>\n",
       "    <tr>\n",
       "      <th>3</th>\n",
       "      <td>0.490479</td>\n",
       "      <td>0.08</td>\n",
       "      <td>0.002058</td>\n",
       "    </tr>\n",
       "    <tr>\n",
       "      <th>4</th>\n",
       "      <td>0.484055</td>\n",
       "      <td>0.08</td>\n",
       "      <td>0.004115</td>\n",
       "    </tr>\n",
       "    <tr>\n",
       "      <th>5</th>\n",
       "      <td>0.483834</td>\n",
       "      <td>0.10</td>\n",
       "      <td>0.004115</td>\n",
       "    </tr>\n",
       "    <tr>\n",
       "      <th>...</th>\n",
       "      <td>...</td>\n",
       "      <td>...</td>\n",
       "      <td>...</td>\n",
       "    </tr>\n",
       "    <tr>\n",
       "      <th>78</th>\n",
       "      <td>0.015291</td>\n",
       "      <td>0.96</td>\n",
       "      <td>0.610082</td>\n",
       "    </tr>\n",
       "    <tr>\n",
       "      <th>79</th>\n",
       "      <td>0.015026</td>\n",
       "      <td>0.98</td>\n",
       "      <td>0.610082</td>\n",
       "    </tr>\n",
       "    <tr>\n",
       "      <th>80</th>\n",
       "      <td>0.001896</td>\n",
       "      <td>0.98</td>\n",
       "      <td>0.937243</td>\n",
       "    </tr>\n",
       "    <tr>\n",
       "      <th>81</th>\n",
       "      <td>0.001883</td>\n",
       "      <td>1.00</td>\n",
       "      <td>0.937243</td>\n",
       "    </tr>\n",
       "    <tr>\n",
       "      <th>82</th>\n",
       "      <td>0.000539</td>\n",
       "      <td>1.00</td>\n",
       "      <td>1.000000</td>\n",
       "    </tr>\n",
       "  </tbody>\n",
       "</table>\n",
       "<p>82 rows × 3 columns</p>\n",
       "</div>"
      ],
      "text/plain": [
       "    threshold   tpr       fpr\n",
       "1    0.564276  0.00  0.001029\n",
       "2    0.526852  0.00  0.002058\n",
       "3    0.490479  0.08  0.002058\n",
       "4    0.484055  0.08  0.004115\n",
       "5    0.483834  0.10  0.004115\n",
       "..        ...   ...       ...\n",
       "78   0.015291  0.96  0.610082\n",
       "79   0.015026  0.98  0.610082\n",
       "80   0.001896  0.98  0.937243\n",
       "81   0.001883  1.00  0.937243\n",
       "82   0.000539  1.00  1.000000\n",
       "\n",
       "[82 rows x 3 columns]"
      ]
     },
     "execution_count": 246,
     "metadata": {},
     "output_type": "execute_result"
    }
   ],
   "source": [
    "# Creating a dataframe of fpr, tpr, and thresholds\n",
    "thresh_df = pd.DataFrame({'threshold': thresholds,\n",
    "                          'tpr':  tpr, 'fpr': fpr}).iloc[1::, :]"
   ]
  },
  {
   "cell_type": "code",
   "execution_count": 187,
   "metadata": {},
   "outputs": [],
   "source": [
    "# Adding a column to the DataFrame called J_stat that represents Youden's J-statistic\n",
    "thresh_df['J_stat'] = thresh_df['tpr'] - thresh_df['fpr']"
   ]
  },
  {
   "cell_type": "code",
   "execution_count": 188,
   "metadata": {},
   "outputs": [
    {
     "data": {
      "text/html": [
       "<div>\n",
       "<style scoped>\n",
       "    .dataframe tbody tr th:only-of-type {\n",
       "        vertical-align: middle;\n",
       "    }\n",
       "\n",
       "    .dataframe tbody tr th {\n",
       "        vertical-align: top;\n",
       "    }\n",
       "\n",
       "    .dataframe thead th {\n",
       "        text-align: right;\n",
       "    }\n",
       "</style>\n",
       "<table border=\"1\" class=\"dataframe\">\n",
       "  <thead>\n",
       "    <tr style=\"text-align: right;\">\n",
       "      <th></th>\n",
       "      <th>threshold</th>\n",
       "      <th>tpr</th>\n",
       "      <th>fpr</th>\n",
       "      <th>J_stat</th>\n",
       "    </tr>\n",
       "  </thead>\n",
       "  <tbody>\n",
       "    <tr>\n",
       "      <th>49</th>\n",
       "      <td>0.167629</td>\n",
       "      <td>0.68</td>\n",
       "      <td>0.121399</td>\n",
       "      <td>0.558601</td>\n",
       "    </tr>\n",
       "  </tbody>\n",
       "</table>\n",
       "</div>"
      ],
      "text/plain": [
       "    threshold   tpr       fpr    J_stat\n",
       "49   0.167629  0.68  0.121399  0.558601"
      ]
     },
     "execution_count": 188,
     "metadata": {},
     "output_type": "execute_result"
    }
   ],
   "source": [
    "# Selecting the threshold with highest J-statistic and labeling it the optimal threshold\n",
    "\n",
    "max_selector = thresh_df.index == thresh_df['J_stat'].idxmax()\n",
    "\n",
    "optimal_thresh = thresh_df[max_selector]\n",
    "optimal_thresh"
   ]
  },
  {
   "cell_type": "code",
   "execution_count": 249,
   "metadata": {},
   "outputs": [
    {
     "data": {
      "image/png": "[encoded data removed]",
      "text/plain": [
       "<Figure size 720x576 with 1 Axes>"
      ]
     },
     "metadata": {
      "needs_background": "light"
     },
     "output_type": "display_data"
    }
   ],
   "source": [
    "# Creating a visualization to mark the tpr and fpr values at the optimal threshold\n",
    "fig, ax = plt.subplots(figsize = (10,8))\n",
    "thresh_df.plot(x = 'fpr', y = 'tpr', ax = ax, label = 'ROC')\n",
    "optimal_thresh.plot.scatter(x = 'fpr', y = 'tpr', c ='r', s = 100, ax = ax, label = 'optimal' )\n",
    "plt.show()"
   ]
  },
  {
   "cell_type": "code",
   "execution_count": 195,
   "metadata": {},
   "outputs": [],
   "source": [
    "# Calculating y predictions using the optimal threshold\n",
    "thresh = optimal_thresh['threshold'].values\n",
    "y_pred_best_threshold = (y_prob[:,1] >= thresh).astype(int)"
   ]
  },
  {
   "cell_type": "code",
   "execution_count": 196,
   "metadata": {},
   "outputs": [
    {
     "data": {
      "text/plain": [
       "0.68"
      ]
     },
     "execution_count": 196,
     "metadata": {},
     "output_type": "execute_result"
    }
   ],
   "source": [
    "# Finding the new recall value with the optimal threshold\n",
    "model_1_recall = recall_score(y_test, y_pred_best_threshold)\n",
    "model_1_recall"
   ]
  },
  {
   "cell_type": "code",
   "execution_count": 245,
   "metadata": {},
   "outputs": [
    {
     "data": {
      "image/png": "[encoded data removed]",
      "text/plain": [
       "<Figure size 720x576 with 2 Axes>"
      ]
     },
     "metadata": {
      "needs_background": "light"
     },
     "output_type": "display_data"
    }
   ],
   "source": [
    "# Visualization a confusion matrix when using the optimal threshold\n",
    "conf_mat_best = confusion_matrix(y_test, y_pred_best_threshold)\n",
    "fig, ax = plt.subplots(figsize = (10, 8))\n",
    "sns.heatmap(conf_mat_best, annot = True, fmt='g', annot_kws={'fontsize': 14}, \n",
    "            cmap = 'viridis', linecolor = 'black', ax = ax)\n",
    "ax.set_ylabel('True Label', size = 15)\n",
    "ax.set_xlabel('Predicted Label', size = 15)\n",
    "ax.axhline(y = 0, color='k',linewidth = 1)\n",
    "ax.axhline(y = conf_mat_best.shape[1], color = 'k',\n",
    "            linewidth = 2)\n",
    "ax.axvline(x = 0, color = 'k',\n",
    "            linewidth = 1)\n",
    "ax.axvline(x = conf_mat_best.shape[0], \n",
    "            color = 'k', linewidth = 2)\n",
    "plt.show()"
   ]
  },
  {
   "cell_type": "code",
   "execution_count": 55,
   "metadata": {},
   "outputs": [
    {
     "data": {
      "image/png": "[encoded data removed]",
      "text/plain": [
       "<Figure size 720x576 with 1 Axes>"
      ]
     },
     "metadata": {
      "needs_background": "light"
     },
     "output_type": "display_data"
    }
   ],
   "source": [
    "# Visualizing the AUC (Area Under the Curve)\n",
    "fig, ax = plt.subplots(figsize = (10,8))\n",
    "plot_roc_curve(baseline_pipeline, X_test, y_test, ax = ax)\n",
    "ax.set_ylabel('True positive rate')\n",
    "ax.set_xlabel('False positive rate')\n",
    "ax.set_title('Baseline Model ROC-AUC')\n",
    "plt.show()"
   ]
  },
  {
   "cell_type": "markdown",
   "metadata": {},
   "source": [
    "### _Comments on Model 1 (Baseline Model)_\n",
    "\n",
    "Overall, these results are okay.\n",
    "\n",
    "As mentioned earlier, for this project, the recall score is the most important as false negatives are more costly than false positives (i.e., classifying someone as not being at risk for a stroke when they are is worse than classifying someone as being at risk for a stroke when they are not). \n",
    "\n",
    "A recall score of .68 is fine, but not great. We can better our recall score by further reducing the number of false negatives (16) as well as examine other types of models. \n",
    "\n",
    "The ROC-AUC score of 0.83 is good, but there is room for improvement.\n",
    "\n",
    "In our next models, we will attempt to maximize the recall score and minimize the number of false negatives value as much as possible. "
   ]
  },
  {
   "cell_type": "markdown",
   "metadata": {},
   "source": [
    "Model 3: "
   ]
  }
 ],
 "metadata": {
  "kernelspec": {
   "display_name": "Python 3",
   "language": "python",
   "name": "python3"
  },
  "language_info": {
   "codemirror_mode": {
    "name": "ipython",
    "version": 3
   },
   "file_extension": ".py",
   "mimetype": "text/x-python",
   "name": "python",
   "nbconvert_exporter": "python",
   "pygments_lexer": "ipython3",
   "version": "3.8.5"
  }
 },
 "nbformat": 4,
 "nbformat_minor": 5
}
